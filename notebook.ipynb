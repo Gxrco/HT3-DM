{
 "cells": [
  {
   "cell_type": "markdown",
   "metadata": {},
   "source": [
    "# House Prices: Advanced Regression Techniques\""
   ]
  },
  {
   "cell_type": "markdown",
   "metadata": {},
   "source": [
    "## Análsis exploratorio"
   ]
  },
  {
   "cell_type": "code",
   "execution_count": 2,
   "metadata": {},
   "outputs": [
    {
     "name": "stdout",
     "output_type": "stream",
     "text": [
      "   Id  MSSubClass MSZoning  LotFrontage  LotArea Street Alley LotShape  \\\n",
      "0   1          60       RL         65.0     8450   Pave   NaN      Reg   \n",
      "1   2          20       RL         80.0     9600   Pave   NaN      Reg   \n",
      "2   3          60       RL         68.0    11250   Pave   NaN      IR1   \n",
      "3   4          70       RL         60.0     9550   Pave   NaN      IR1   \n",
      "4   5          60       RL         84.0    14260   Pave   NaN      IR1   \n",
      "\n",
      "  LandContour Utilities  ... PoolArea PoolQC Fence MiscFeature MiscVal MoSold  \\\n",
      "0         Lvl    AllPub  ...        0    NaN   NaN         NaN       0      2   \n",
      "1         Lvl    AllPub  ...        0    NaN   NaN         NaN       0      5   \n",
      "2         Lvl    AllPub  ...        0    NaN   NaN         NaN       0      9   \n",
      "3         Lvl    AllPub  ...        0    NaN   NaN         NaN       0      2   \n",
      "4         Lvl    AllPub  ...        0    NaN   NaN         NaN       0     12   \n",
      "\n",
      "  YrSold  SaleType  SaleCondition  SalePrice  \n",
      "0   2008        WD         Normal     208500  \n",
      "1   2007        WD         Normal     181500  \n",
      "2   2008        WD         Normal     223500  \n",
      "3   2006        WD        Abnorml     140000  \n",
      "4   2008        WD         Normal     250000  \n",
      "\n",
      "[5 rows x 81 columns]\n"
     ]
    }
   ],
   "source": [
    "import pandas as pd\n",
    "import numpy as np\n",
    "import matplotlib.pyplot as plt\n",
    "import seaborn as sns\n",
    "from scipy import stats\n",
    "\n",
    "sns.set_theme(style=\"whitegrid\")\n",
    "\n",
    "filePath = './train.csv'\n",
    "\n",
    "df = pd.read_csv(filePath, encoding=\"ISO-8859-1\")\n",
    "print(df.head())\n"
   ]
  },
  {
   "cell_type": "markdown",
   "metadata": {},
   "source": [
    "## Descripción de las Variables del Dataset\n",
    "\n",
    "| Variable       | Descripción |\n",
    "|---------------|-------------|\n",
    "| **MSSubClass** | Tipo de vivienda involucrada en la venta (código numérico). |\n",
    "| **MSZoning** | Clasificación de zonificación general de la venta. |\n",
    "| **LotFrontage** | Pies lineales de calle conectados a la propiedad. |\n",
    "| **LotArea** | Tamaño del lote en pies cuadrados. |\n",
    "| **Street** | Tipo de acceso por carretera a la propiedad. |\n",
    "| **Alley** | Tipo de acceso al callejón. |\n",
    "| **LotShape** | Forma general de la propiedad. |\n",
    "| **LandContour** | Nivel de la propiedad en relación con su entorno. |\n",
    "| **Utilities** | Tipo de servicios públicos disponibles. |\n",
    "| **LotConfig** | Configuración del lote. |\n",
    "| **LandSlope** | Pendiente del terreno. |\n",
    "| **Neighborhood** | Ubicación física dentro de los límites de la ciudad. |\n",
    "| **Condition1** | Proximidad a diversas condiciones. |\n",
    "| **Condition2** | Segunda proximidad a diversas condiciones (si hay más de una). |\n",
    "| **BldgType** | Tipo de vivienda. |\n",
    "| **HouseStyle** | Estilo de la vivienda. |\n",
    "| **OverallQual** | Calidad general de los materiales y el acabado de la casa. |\n",
    "| **OverallCond** | Condición general de la casa. |\n",
    "| **YearBuilt** | Año de construcción original. |\n",
    "| **YearRemodAdd** | Año de remodelación (igual a `YearBuilt` si no ha habido cambios). |\n",
    "| **RoofStyle** | Tipo de techo. |\n",
    "| **RoofMatl** | Material del techo. |\n",
    "| **Exterior1st** | Cubierta exterior principal de la casa. |\n",
    "| **Exterior2nd** | Cubierta exterior secundaria de la casa (si hay más de un material). |\n",
    "| **MasVnrType** | Tipo de revestimiento de mampostería. |\n",
    "| **MasVnrArea** | Área del revestimiento de mampostería en pies cuadrados. |\n",
    "| **ExterQual** | Calidad de los materiales en el exterior. |\n",
    "| **ExterCond** | Condición actual del material en el exterior. |\n",
    "| **Foundation** | Tipo de cimentación. |\n",
    "| **BsmtQual** | Altura del sótano. |\n",
    "| **BsmtCond** | Condición general del sótano. |\n",
    "| **BsmtExposure** | Exposición del sótano a nivel de jardín. |\n",
    "| **BsmtFinType1** | Tipo de acabado del sótano 1. |\n",
    "| **BsmtFinSF1** | Pies cuadrados de área terminada del sótano tipo 1. |\n",
    "| **BsmtFinType2** | Tipo de acabado del sótano 2. |\n",
    "| **BsmtFinSF2** | Pies cuadrados de área terminada del sótano tipo 2. |\n",
    "| **BsmtUnfSF** | Pies cuadrados sin terminar del sótano. |\n",
    "| **TotalBsmtSF** | Área total en pies cuadrados del sótano. |\n",
    "| **Heating** | Tipo de calefacción. |\n",
    "| **HeatingQC** | Calidad y estado del sistema de calefacción. |\n",
    "| **CentralAir** | Aire acondicionado centralizado (Sí/No). |\n",
    "| **Electrical** | Sistema eléctrico. |\n",
    "| **1stFlrSF** | Pies cuadrados del primer piso. |\n",
    "| **2ndFlrSF** | Pies cuadrados del segundo piso. |\n",
    "| **LowQualFinSF** | Pies cuadrados de áreas terminadas de baja calidad. |\n",
    "| **GrLivArea** | Área habitable sobre el nivel del suelo en pies cuadrados. |\n",
    "| **BsmtFullBath** | Número de baños completos en el sótano. |\n",
    "| **BsmtHalfBath** | Número de medios baños en el sótano. |\n",
    "| **FullBath** | Número de baños completos sobre el nivel del suelo. |\n",
    "| **HalfBath** | Número de medios baños sobre el nivel del suelo. |\n",
    "| **Bedroom** | Número de habitaciones sobre el nivel del suelo (excluye sótanos). |\n",
    "| **Kitchen** | Número de cocinas sobre el nivel del suelo. |\n",
    "| **KitchenQual** | Calidad de la cocina. |\n",
    "| **TotRmsAbvGrd** | Número total de habitaciones sobre el nivel del suelo (excluye baños). |\n",
    "| **Functional** | Funcionalidad del hogar. |\n",
    "| **Fireplaces** | Número de chimeneas. |\n",
    "| **FireplaceQu** | Calidad de la chimenea. |\n",
    "| **GarageType** | Ubicación del garaje. |\n",
    "| **GarageYrBlt** | Año de construcción del garaje. |\n",
    "| **GarageFinish** | Acabado interior del garaje. |\n",
    "| **GarageCars** | Tamaño del garaje en capacidad de autos. |\n",
    "| **GarageArea** | Tamaño del garaje en pies cuadrados. |\n",
    "| **GarageQual** | Calidad del garaje. |\n",
    "| **GarageCond** | Condición del garaje. |\n",
    "| **PavedDrive** | Tipo de pavimentación de la entrada. |\n",
    "| **WoodDeckSF** | Área de la terraza de madera en pies cuadrados. |\n",
    "| **OpenPorchSF** | Área del porche abierto en pies cuadrados. |\n",
    "| **EnclosedPorch** | Área del porche cerrado en pies cuadrados. |\n",
    "| **3SsnPorch** | Área del porche de tres estaciones en pies cuadrados. |\n",
    "| **ScreenPorch** | Área del porche con mosquitero en pies cuadrados. |\n",
    "| **PoolArea** | Área de la piscina en pies cuadrados. |\n",
    "| **PoolQC** | Calidad de la piscina. |\n",
    "| **Fence** | Calidad de la cerca. |\n",
    "| **MiscFeature** | Característica adicional no cubierta en otras categorías. |\n",
    "| **MiscVal** | Valor en dólares de la característica adicional. |\n",
    "| **MoSold** | Mes en que se vendió la casa. |\n",
    "| **YrSold** | Año en que se vendió la casa. |\n",
    "| **SaleType** | Tipo de venta. |\n",
    "| **SaleCondition** | Condición de la venta. |\n",
    "| **SalePrice** | **Precio de venta de la vivienda (variable objetivo).** |\n"
   ]
  }
 ],
 "metadata": {
  "kernelspec": {
   "display_name": "Python 3",
   "language": "python",
   "name": "python3"
  },
  "language_info": {
   "codemirror_mode": {
    "name": "ipython",
    "version": 3
   },
   "file_extension": ".py",
   "mimetype": "text/x-python",
   "name": "python",
   "nbconvert_exporter": "python",
   "pygments_lexer": "ipython3",
   "version": "3.12.4"
  }
 },
 "nbformat": 4,
 "nbformat_minor": 2
}
